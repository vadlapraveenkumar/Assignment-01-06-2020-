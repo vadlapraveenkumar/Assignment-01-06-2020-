{
 "cells": [
  {
   "cell_type": "code",
   "execution_count": 1,
   "metadata": {},
   "outputs": [
    {
     "name": "stdout",
     "output_type": "stream",
     "text": [
      "Enter Yes or NoYes\n",
      "Eatbook2'\n",
      "Enter Yes or NoYes\n",
      "Eatpen77\\\n",
      "Enter Yes or NoYes\n",
      "Cooksofa97^\n",
      "Enter Yes or NoYes\n",
      "Standtable87'\n",
      "Enter Yes or NoYes\n",
      "Playsofa97\"\n",
      "Enter Yes or NoYes\n",
      "Sleeppencil93/\n",
      "Enter Yes or NoYes\n",
      "Walkchair45.\n",
      "Enter Yes or NoYes\n",
      "Playmobile23<\n",
      "Enter Yes or NoNo\n"
     ]
    }
   ],
   "source": [
    "#Project\n",
    "#Password picker\n",
    "import string\n",
    "import random\n",
    "\n",
    "verblist=[\"Eat\",\"Sleep\",\"Bath\",\"Walk\",\"Stand\",\"Play\",\"Run\",\"Cook\",\"Build\",\"Make\"]\n",
    "nounlist=[\"pen\",\"pencil\",\"eraser\",\"mobile\",\"book\",\"sofa\",\"chair\",\"table\",\"remote\",\"laptop\"]\n",
    "\n",
    "while(str):\n",
    "        str=input(\"Enter Yes or No\")\n",
    "        if(str==\"Yes\"):\n",
    "            print(random.choice(verblist)+random.choice(nounlist),end=\"\")\n",
    "            print(random.randint(1,100),end=\"\")\n",
    "            print(random.choice(string.punctuation))\n",
    "        else:\n",
    "             break"
   ]
  },
  {
   "cell_type": "code",
   "execution_count": null,
   "metadata": {},
   "outputs": [],
   "source": []
  }
 ],
 "metadata": {
  "kernelspec": {
   "display_name": "Python 3",
   "language": "python",
   "name": "python3"
  },
  "language_info": {
   "codemirror_mode": {
    "name": "ipython",
    "version": 3
   },
   "file_extension": ".py",
   "mimetype": "text/x-python",
   "name": "python",
   "nbconvert_exporter": "python",
   "pygments_lexer": "ipython3",
   "version": "3.7.4"
  }
 },
 "nbformat": 4,
 "nbformat_minor": 2
}
